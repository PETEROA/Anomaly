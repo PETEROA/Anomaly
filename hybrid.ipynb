{
  "nbformat": 4,
  "nbformat_minor": 0,
  "metadata": {
    "colab": {
      "provenance": [],
      "authorship_tag": "ABX9TyPSIaLSu/WkpDB7SypA651c",
      "include_colab_link": true
    },
    "kernelspec": {
      "name": "python3",
      "display_name": "Python 3"
    },
    "language_info": {
      "name": "python"
    }
  },
  "cells": [
    {
      "cell_type": "markdown",
      "metadata": {
        "id": "view-in-github",
        "colab_type": "text"
      },
      "source": [
        "<a href=\"https://colab.research.google.com/github/PETEROA/Anomaly/blob/main/hybrid.ipynb\" target=\"_parent\"><img src=\"https://colab.research.google.com/assets/colab-badge.svg\" alt=\"Open In Colab\"/></a>"
      ]
    },
    {
      "cell_type": "code",
      "source": [
        "pip install EMD-signal"
      ],
      "metadata": {
        "id": "DwTycPgMkIcd"
      },
      "execution_count": null,
      "outputs": []
    },
    {
      "cell_type": "code",
      "execution_count": 14,
      "metadata": {
        "id": "wKdhm25jj2HH"
      },
      "outputs": [],
      "source": [
        "import numpy as np\n",
        "import pandas as pd\n",
        "from PyEMD import EMD\n",
        "from scipy.stats import zscore\n",
        "from sklearn.preprocessing import MinMaxScaler\n",
        "from tensorflow.keras.models import Sequential\n",
        "from tensorflow.keras.layers import LSTM, Dense\n"
      ]
    },
    {
      "cell_type": "code",
      "source": [
        "df = pd.read_csv('modified_UCI.csv')"
      ],
      "metadata": {
        "id": "gxMd50e9k60o"
      },
      "execution_count": 15,
      "outputs": []
    },
    {
      "cell_type": "code",
      "source": [
        "df.head"
      ],
      "metadata": {
        "id": "SkziVMP9k8UC"
      },
      "execution_count": null,
      "outputs": []
    },
    {
      "cell_type": "code",
      "source": [
        "columns_to_extract = ['CO(GT)', 'C6H6(GT)']\n",
        "data = df[columns_to_extract].values.flatten()\n",
        "\n",
        "# Apply Hampel Identifier\n",
        "def hampel_identifier(data, window_size=5, n_sigma=3):\n",
        "    median = pd.Series(data).rolling(window=window_size, center=True).median()\n",
        "    deviation = np.abs(data - median)\n",
        "    median_deviation = deviation.rolling(window=window_size, center=True).median()\n",
        "    z_score = 0.6745 * deviation / (median_deviation + 1e-10)\n",
        "    outliers = z_score > n_sigma\n",
        "    return outliers\n",
        "\n",
        "\n",
        "outliers_hampel = hampel_identifier(data)\n",
        "\n",
        "# Apply Empirical Mode Decomposition (EMD)\n",
        "def apply_emd(data):\n",
        "    emd = EMD()\n",
        "    imfs = emd(data)\n",
        "    return imfs\n",
        "\n",
        "imfs = apply_emd(data)\n",
        "\n",
        "# Combine IMFs and original data\n",
        "hybrid_data = np.vstack([imfs, data]).T\n",
        "\n",
        "# Normalize hybrid data\n",
        "scaler = MinMaxScaler()\n",
        "hybrid_data_normalized = scaler.fit_transform(hybrid_data)\n",
        "\n",
        "# Split into sequences for RNN\n",
        "sequence_length = 4\n",
        "sequences = [hybrid_data_normalized[i:i + sequence_length] for i in range(len(hybrid_data_normalized) - sequence_length)]\n",
        "targets = outliers_hampel[sequence_length:]\n",
        "\n",
        "# Convert to NumPy arrays\n",
        "X = np.array(sequences)\n",
        "y = np.array(targets)\n",
        "\n",
        "# Build and train the hybrid RNN model\n",
        "model = Sequential()\n",
        "model.add(LSTM(units=50, activation='relu', input_shape=(X.shape[1], X.shape[2])))\n",
        "model.add(Dense(units=1, activation='sigmoid'))\n",
        "model.compile(optimizer='adam', loss='binary_crossentropy', metrics=['accuracy'])\n",
        "model.fit(X, y, epochs=10, batch_size=32, verbose=0)           # Set verbose to 0 to suppress output\n"
      ],
      "metadata": {
        "colab": {
          "base_uri": "https://localhost:8080/"
        },
        "id": "kEY6HvRUkh3s",
        "outputId": "eb2bf487-1ecb-4ab5-889a-835e18d1aac5"
      },
      "execution_count": 22,
      "outputs": [
        {
          "output_type": "execute_result",
          "data": {
            "text/plain": [
              "<keras.src.callbacks.History at 0x7f1b4c67cbe0>"
            ]
          },
          "metadata": {},
          "execution_count": 22
        }
      ]
    },
    {
      "cell_type": "code",
      "source": [
        "from sklearn.metrics import accuracy_score, precision_score, recall_score, f1_score, confusion_matrix\n",
        "\n",
        "# Predict on the training set for evaluation\n",
        "y_pred = (model.predict(X) > 0.5).astype(int)\n",
        "\n",
        "# Evaluate the model\n",
        "accuracy = accuracy_score(y, y_pred)\n",
        "precision = precision_score(y, y_pred)\n",
        "recall = recall_score(y, y_pred)\n",
        "f1 = f1_score(y, y_pred)\n",
        "conf_matrix = confusion_matrix(y, y_pred)\n",
        "\n",
        "print(f'Accuracy: {accuracy:.4f}')\n",
        "print(f'Precision: {precision:.4f}')\n",
        "print(f'Recall: {recall:.4f}')\n",
        "print(f'F1 Score: {f1:.4f}')\n",
        "print('Confusion Matrix:')\n",
        "print(conf_matrix)\n"
      ],
      "metadata": {
        "colab": {
          "base_uri": "https://localhost:8080/"
        },
        "id": "SeWr6k8vnBF3",
        "outputId": "3e42171c-de4d-4b97-efb4-9138e3c933ba"
      },
      "execution_count": 23,
      "outputs": [
        {
          "output_type": "stream",
          "name": "stdout",
          "text": [
            "585/585 [==============================] - 2s 2ms/step\n",
            "Accuracy: 0.8361\n",
            "Precision: 0.7812\n",
            "Recall: 0.0081\n",
            "F1 Score: 0.0160\n",
            "Confusion Matrix:\n",
            "[[15618     7]\n",
            " [ 3060    25]]\n"
          ]
        }
      ]
    }
  ]
}